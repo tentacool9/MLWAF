{
  "nbformat": 4,
  "nbformat_minor": 0,
  "metadata": {
    "colab": {
      "name": "waf.ipynb",
      "provenance": []
    },
    "kernelspec": {
      "name": "python3",
      "display_name": "Python 3"
    },
    "language_info": {
      "name": "python"
    }
  },
  "cells": [
    {
      "cell_type": "code",
      "execution_count": 13,
      "metadata": {
        "id": "HD8HJWXO0bQg"
      },
      "outputs": [],
      "source": [
        "import pandas as pd\n",
        "import numpy as np\n",
        "import seaborn as sns\n",
        "from keras.models import Sequential,Model\n",
        "from keras.layers import Dense, Conv2D, Flatten, MaxPool2D\n",
        "from keras import layers\n",
        "from tensorflow import keras\n",
        "from keras import metrics\n",
        "from sklearn.model_selection import train_test_split"
      ]
    },
    {
      "cell_type": "code",
      "source": [
        "f = open('./badqueries.txt',mode='r')\n",
        "badqueries = f.readlines()\n",
        "f = open('./goodqueries.txt',mode='r')\n",
        "goodqueries = f.readlines()\n",
        "f.close()"
      ],
      "metadata": {
        "id": "vl1y1r4z1Te8"
      },
      "execution_count": 9,
      "outputs": []
    },
    {
      "cell_type": "code",
      "source": [
        "badqueriespd = pd.DataFrame({'query': badqueries,'label': [1 for x in badqueries]})\n",
        "goodqueries = pd.DataFrame({'query': goodqueries,'label': [0 for x in goodqueries]})\n",
        "allqueries = pd.concat([badqueriespd,goodqueries])\n"
      ],
      "metadata": {
        "id": "joW_7Ww32Rfa"
      },
      "execution_count": 16,
      "outputs": []
    },
    {
      "cell_type": "code",
      "source": [
        "def generate_dataset(df):\n",
        "  tensorlist = []\n",
        "  labelist = []\n",
        "\n",
        "  # Generating our dataset sample by sample\n",
        "  for row in df.values:\n",
        "\n",
        "    query = row[0]\n",
        "    label = row[1]\n",
        "\n",
        "    # Encode characters into their UNICODE value\n",
        "    url_part = [ord(x) if (ord(x) < 129) else 0 for x in query[:784]]\n",
        "\n",
        "    # Pad with zeroes\n",
        "    url_part += [0] * (784 - len(url_part))\n",
        "    \n",
        "    maxim = max(url_part)\n",
        "    if maxim > maxabs:\n",
        "      maxabs = maxim\n",
        "    x = np.array(url_part).reshape(28,28)\n",
        "    \n",
        "    # label y\n",
        "    if label == 1:\n",
        "        y = np.array([0, 1], dtype=np.int8)\n",
        "    else :\n",
        "        y = np.array([1, 0], dtype=np.int8)\n",
        "    tensorlist.append(x)\n",
        "    labelist.append(y)\n",
        "\n",
        "  return tensorlist,labelist"
      ],
      "metadata": {
        "id": "FTkaPztp0jPs"
      },
      "execution_count": 18,
      "outputs": []
    },
    {
      "cell_type": "code",
      "source": [
        "X,y = generate_dataset(allqueries)"
      ],
      "metadata": {
        "colab": {
          "base_uri": "https://localhost:8080/"
        },
        "id": "QsU_B0i23EcZ",
        "outputId": "36cb1b67-eeef-4595-cf21-4ef1b326e678"
      },
      "execution_count": 19,
      "outputs": [
        {
          "output_type": "stream",
          "name": "stdout",
          "text": [
            "128\n"
          ]
        }
      ]
    },
    {
      "cell_type": "code",
      "source": [
        "X_train, X_test, y_train, y_test = train_test_split(X, y, test_size=0.2, random_state=42)"
      ],
      "metadata": {
        "id": "6h9hoYD34ry5"
      },
      "execution_count": 39,
      "outputs": []
    },
    {
      "cell_type": "code",
      "source": [
        "from keras.models import Sequential,Model\n",
        "from keras.layers import Dense, Conv2D, Flatten, MaxPool2D\n",
        "model = Sequential()\n",
        "model.add(layers.Input(shape=(28,28,1)))\n",
        "model.add(Conv2D(64, (5, 5), activation='relu', kernel_initializer='he_uniform'))\n",
        "model.add(layers.BatchNormalization())\n",
        "model.add(Conv2D(32, (5, 5), activation='relu'))\n",
        "model.add(layers.Dropout(0.2))\n",
        "model.add(MaxPool2D((3,3)))\n",
        "model.add(Flatten())\n",
        "model.add(Dense(100, activation='relu', kernel_initializer='he_uniform'))\n",
        "model.add(Dense(2, activation='softmax'))\n",
        "# compile model\n",
        "model.compile(optimizer='adam', loss='categorical_crossentropy', metrics=['accuracy',metrics.Recall(),metrics.Precision()])"
      ],
      "metadata": {
        "id": "hlXZ5A1W40Jw"
      },
      "execution_count": 40,
      "outputs": []
    },
    {
      "cell_type": "code",
      "source": [
        "len(X_train)"
      ],
      "metadata": {
        "colab": {
          "base_uri": "https://localhost:8080/"
        },
        "id": "q4RfiXMt5G8X",
        "outputId": "c15ff52b-2d97-4107-9868-ccce9bc473d4"
      },
      "execution_count": 26,
      "outputs": [
        {
          "output_type": "execute_result",
          "data": {
            "text/plain": [
              "38502"
            ]
          },
          "metadata": {},
          "execution_count": 26
        }
      ]
    },
    {
      "cell_type": "code",
      "source": [
        "len(y_train)"
      ],
      "metadata": {
        "colab": {
          "base_uri": "https://localhost:8080/"
        },
        "id": "dAcE1WF45ePQ",
        "outputId": "9cdb8a08-4e5d-49c0-e79e-07d62a7af194"
      },
      "execution_count": 27,
      "outputs": [
        {
          "output_type": "execute_result",
          "data": {
            "text/plain": [
              "38502"
            ]
          },
          "metadata": {},
          "execution_count": 27
        }
      ]
    },
    {
      "cell_type": "code",
      "source": [
        "X_train[0].shape"
      ],
      "metadata": {
        "colab": {
          "base_uri": "https://localhost:8080/"
        },
        "id": "miUi3Uxc5juf",
        "outputId": "b396b269-c0f0-4157-f75c-ab8837830f1d"
      },
      "execution_count": 28,
      "outputs": [
        {
          "output_type": "execute_result",
          "data": {
            "text/plain": [
              "(28, 28)"
            ]
          },
          "metadata": {},
          "execution_count": 28
        }
      ]
    },
    {
      "cell_type": "code",
      "source": [
        "y_train[0].shape"
      ],
      "metadata": {
        "colab": {
          "base_uri": "https://localhost:8080/"
        },
        "id": "Fn84vKYP5nu_",
        "outputId": "bb17c971-42e3-4af5-f01b-9a76a2f17f56"
      },
      "execution_count": 29,
      "outputs": [
        {
          "output_type": "execute_result",
          "data": {
            "text/plain": [
              "(2,)"
            ]
          },
          "metadata": {},
          "execution_count": 29
        }
      ]
    },
    {
      "cell_type": "code",
      "source": [
        "model.fit(np.array(X_train)/128.0,np.array(y_train),epochs=2,batch_size=100)"
      ],
      "metadata": {
        "colab": {
          "base_uri": "https://localhost:8080/"
        },
        "id": "JkJCjsKt48uI",
        "outputId": "513df714-f5c6-4ea8-c2ba-786873b1c3d7"
      },
      "execution_count": 41,
      "outputs": [
        {
          "output_type": "stream",
          "name": "stdout",
          "text": [
            "Epoch 1/2\n",
            "386/386 [==============================] - 124s 320ms/step - loss: 0.0021 - accuracy: 0.9998 - recall_1: 0.9998 - precision_1: 0.9998\n",
            "Epoch 2/2\n",
            "386/386 [==============================] - 123s 320ms/step - loss: 0.0011 - accuracy: 0.9999 - recall_1: 0.9999 - precision_1: 0.9999\n"
          ]
        },
        {
          "output_type": "execute_result",
          "data": {
            "text/plain": [
              "<keras.callbacks.History at 0x7f1751ac3110>"
            ]
          },
          "metadata": {},
          "execution_count": 41
        }
      ]
    },
    {
      "cell_type": "code",
      "source": [
        "model.evaluate(np.array(X_test)/128.0,np.array(y_test))"
      ],
      "metadata": {
        "colab": {
          "base_uri": "https://localhost:8080/"
        },
        "id": "UopJbYir5B7_",
        "outputId": "39ca2d57-2ffe-4d59-b755-b94a2a82fbce"
      },
      "execution_count": 42,
      "outputs": [
        {
          "output_type": "stream",
          "name": "stdout",
          "text": [
            "301/301 [==============================] - 8s 26ms/step - loss: 1.8180e-08 - accuracy: 1.0000 - recall_1: 1.0000 - precision_1: 1.0000\n"
          ]
        },
        {
          "output_type": "execute_result",
          "data": {
            "text/plain": [
              "[1.8179848737531756e-08, 1.0, 1.0, 1.0]"
            ]
          },
          "metadata": {},
          "execution_count": 42
        }
      ]
    },
    {
      "cell_type": "code",
      "source": [
        "v = \"/phpmyadmin/source?v=../../../../../../../../../../etc/passwd\\x00\"\n",
        "print([ord(x) for x in v])"
      ],
      "metadata": {
        "colab": {
          "base_uri": "https://localhost:8080/"
        },
        "id": "68JvM3CaCn8Q",
        "outputId": "b88334f5-79ba-4dfc-f67c-ecf4b87692a3"
      },
      "execution_count": 38,
      "outputs": [
        {
          "output_type": "stream",
          "name": "stdout",
          "text": [
            "[47, 112, 104, 112, 109, 121, 97, 100, 109, 105, 110, 47, 115, 111, 117, 114, 99, 101, 63, 118, 61, 46, 46, 47, 46, 46, 47, 46, 46, 47, 46, 46, 47, 46, 46, 47, 46, 46, 47, 46, 46, 47, 46, 46, 47, 46, 46, 47, 46, 46, 47, 101, 116, 99, 47, 112, 97, 115, 115, 119, 100, 0]\n"
          ]
        }
      ]
    },
    {
      "cell_type": "code",
      "source": [
        ""
      ],
      "metadata": {
        "id": "BIm_JLRlIVvD"
      },
      "execution_count": null,
      "outputs": []
    }
  ]
}